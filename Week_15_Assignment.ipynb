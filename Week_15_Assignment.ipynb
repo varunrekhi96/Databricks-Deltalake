{
 "cells": [
  {
   "cell_type": "code",
   "execution_count": 0,
   "metadata": {
    "application/vnd.databricks.v1+cell": {
     "cellMetadata": {},
     "inputWidgets": {},
     "nuid": "e832abf4-d739-4982-9f72-2f14d21605d5",
     "showTitle": false,
     "title": ""
    }
   },
   "outputs": [],
   "source": [
    "# a. Create a Storage Account in the azure portal\n",
    "# I have created new resource group for week 15 assignment and inside this I have created one\n",
    "# Storage Account week15assignstorage with Hierarchical namespace Enabled."
   ]
  },
  {
   "cell_type": "code",
   "execution_count": 0,
   "metadata": {
    "application/vnd.databricks.v1+cell": {
     "cellMetadata": {},
     "inputWidgets": {},
     "nuid": "f9a6791e-8f4a-4932-8fbb-5e3d3a1559fe",
     "showTitle": false,
     "title": ""
    }
   },
   "outputs": [],
   "source": [
    "# b. Create and launch a Databricks Workspace in the azure portal\n",
    "# Created Databricks Workspace week15-tt-databricks-ws"
   ]
  },
  {
   "cell_type": "code",
   "execution_count": 0,
   "metadata": {
    "application/vnd.databricks.v1+cell": {
     "cellMetadata": {},
     "inputWidgets": {},
     "nuid": "64a78200-69bf-4923-96d6-7d86f45d56a2",
     "showTitle": false,
     "title": ""
    }
   },
   "outputs": [],
   "source": [
    "# I have uploaded 2 datasets a. bike_trip.csv and b. donation.csv both are more than 1 GB in size"
   ]
  },
  {
   "cell_type": "code",
   "execution_count": 0,
   "metadata": {
    "application/vnd.databricks.v1+cell": {
     "cellMetadata": {},
     "inputWidgets": {},
     "nuid": "832802aa-06d8-4b85-a609-dc9d60160248",
     "showTitle": false,
     "title": ""
    }
   },
   "outputs": [],
   "source": [
    "# Create a mount point /mnt/week15assignmentdb to access the files in\n",
    "# the container - week15inputdatasets – To create mount point I have first\n",
    "# created one secret scope to keep azure storage account key and reading\n",
    "# the same while creating mount point ."
   ]
  },
  {
   "cell_type": "code",
   "execution_count": 0,
   "metadata": {
    "application/vnd.databricks.v1+cell": {
     "cellMetadata": {},
     "inputWidgets": {},
     "nuid": "0bad400b-a53e-4a4e-b49f-625e12ac997c",
     "showTitle": false,
     "title": ""
    }
   },
   "outputs": [],
   "source": [
    "# Create Data frames by reading the data present in the storage account through the mount point created in the previous step"
   ]
  },
  {
   "cell_type": "code",
   "execution_count": 0,
   "metadata": {
    "application/vnd.databricks.v1+cell": {
     "cellMetadata": {},
     "inputWidgets": {},
     "nuid": "199ef354-9e2b-456d-8d09-b78f496f83c1",
     "showTitle": false,
     "title": ""
    }
   },
   "outputs": [],
   "source": [
    "dbutils.fs.mount(source='wasbs://week15inputdatasets@week15assignstorage.blob.core.windows.net', \n",
    "mount_point = '/mnt/week15assignmentdb',\n",
    "extra_configs={'fs.azure.account.key.week15assignstorage.blob.core.windows.net' : dbutils.secrets.get(\"Week15-tt-secret-scope\",\"week15assignstoragekey\")})"
   ]
  },
  {
   "cell_type": "code",
   "execution_count": 0,
   "metadata": {
    "application/vnd.databricks.v1+cell": {
     "cellMetadata": {},
     "inputWidgets": {},
     "nuid": "a0acfd51-adf9-44df-853a-8a06051fca38",
     "showTitle": false,
     "title": ""
    }
   },
   "outputs": [],
   "source": [
    "bike_schema ='id long, rideable_type string, started_at string ,ended_at string ,start_station_name string ,start_station_id string ,end_station_name string ,end_station_id string ,start_lat string ,start_lng string ,end_lat string ,end_lng string ,member_casual string ,ride_length string ,day_of_week_start string ,day_of_week_end string'\n",
    "\n",
    "bike_df = spark.read.format(\"csv\").option(\"header\",\"true\").schema(bike_schema).load(\"dbfs:/mnt/week15assignmentdb/bike_trip\")"
   ]
  },
  {
   "cell_type": "code",
   "execution_count": 0,
   "metadata": {
    "application/vnd.databricks.v1+cell": {
     "cellMetadata": {},
     "inputWidgets": {},
     "nuid": "8e66010c-b7a0-475b-9d55-a6beba899d94",
     "showTitle": false,
     "title": ""
    }
   },
   "outputs": [],
   "source": [
    "donation_schema=\"project_id string, donation_id string, donar_id string, donation_included_optional_donation string, donation_amount string, donor_cart_sequence string, donation_received_date string\"\n",
    "\n",
    "donation_df = spark.read.format(\"csv\").schema(donation_schema).option(\"header\",\"false\").load(\"dbfs:/mnt/week15assignmentdb/donation\")"
   ]
  },
  {
   "cell_type": "code",
   "execution_count": 0,
   "metadata": {
    "application/vnd.databricks.v1+cell": {
     "cellMetadata": {},
     "inputWidgets": {},
     "nuid": "d31281cd-4fa9-4121-b704-81f6baf0400b",
     "showTitle": false,
     "title": ""
    }
   },
   "outputs": [],
   "source": [
    "# create a Database and create delta tables on the data stored in the Storage account"
   ]
  },
  {
   "cell_type": "code",
   "execution_count": 0,
   "metadata": {
    "application/vnd.databricks.v1+cell": {
     "cellMetadata": {},
     "inputWidgets": {},
     "nuid": "1a915b49-1283-4193-a2ef-dabf5d2e3f92",
     "showTitle": false,
     "title": ""
    }
   },
   "outputs": [],
   "source": [
    "%sql\n",
    "Create database if not exists week15assigndb"
   ]
  },
  {
   "cell_type": "code",
   "execution_count": 0,
   "metadata": {
    "application/vnd.databricks.v1+cell": {
     "cellMetadata": {},
     "inputWidgets": {},
     "nuid": "90df6736-55a6-4478-9f2c-797ed0a40ee8",
     "showTitle": false,
     "title": ""
    }
   },
   "outputs": [],
   "source": [
    "# Create Spark tables in Parquet format"
   ]
  },
  {
   "cell_type": "code",
   "execution_count": 0,
   "metadata": {
    "application/vnd.databricks.v1+cell": {
     "cellMetadata": {},
     "inputWidgets": {},
     "nuid": "ecfd745e-782c-4431-a6f5-d22d73057c2f",
     "showTitle": false,
     "title": ""
    }
   },
   "outputs": [],
   "source": [
    "bike_df.write.mode(\"overwrite\").partitionBy(\"day_of_week_start\").format(\"parquet\").save(\"/mnt/week15assignmentdb/parquet/bikes.parquet\"\n",
    "# Due to partition By column, we have 7 folders generated in a storage account."
   ]
  },
  {
   "cell_type": "code",
   "execution_count": 0,
   "metadata": {
    "application/vnd.databricks.v1+cell": {
     "cellMetadata": {},
     "inputWidgets": {},
     "nuid": "6856de3d-f2fb-4370-975a-a4f3d46b717a",
     "showTitle": false,
     "title": ""
    }
   },
   "outputs": [],
   "source": [
    "# Creating a parquet table for bike_trip.csv"
   ]
  },
  {
   "cell_type": "code",
   "execution_count": 0,
   "metadata": {
    "application/vnd.databricks.v1+cell": {
     "cellMetadata": {},
     "inputWidgets": {},
     "nuid": "9b7f4c0e-aa2a-4952-83eb-d4d47caba4ea",
     "showTitle": false,
     "title": ""
    }
   },
   "outputs": [],
   "source": [
    "%sql\n",
    "create table week15assigndb.bikesparquet using parquet location \"/mnt/week15assignmentdb/parquet/bikes.parquet/*\""
   ]
  },
  {
   "cell_type": "code",
   "execution_count": 0,
   "metadata": {
    "application/vnd.databricks.v1+cell": {
     "cellMetadata": {},
     "inputWidgets": {},
     "nuid": "4ab12c6b-083a-46c7-936f-b46c806530e2",
     "showTitle": false,
     "title": ""
    }
   },
   "outputs": [],
   "source": [
    "%sql\n",
    "select * from week15assigndb.bikesparquet"
   ]
  },
  {
   "cell_type": "code",
   "execution_count": 0,
   "metadata": {
    "application/vnd.databricks.v1+cell": {
     "cellMetadata": {},
     "inputWidgets": {},
     "nuid": "9d3a6ae9-bd40-40d0-a3f7-6eac827a5c9d",
     "showTitle": false,
     "title": ""
    }
   },
   "outputs": [],
   "source": [
    "donation_df.write.mode(\"overwrite\").format(\"parquet\").save(\"/mnt/week15assignmentdb/parquet/donations.parquet\")"
   ]
  },
  {
   "cell_type": "code",
   "execution_count": 0,
   "metadata": {
    "application/vnd.databricks.v1+cell": {
     "cellMetadata": {},
     "inputWidgets": {},
     "nuid": "006a85fb-c707-4351-8136-be3cade220b6",
     "showTitle": false,
     "title": ""
    }
   },
   "outputs": [],
   "source": [
    "# Creating Parquet Table for donations.csv"
   ]
  },
  {
   "cell_type": "code",
   "execution_count": 0,
   "metadata": {
    "application/vnd.databricks.v1+cell": {
     "cellMetadata": {},
     "inputWidgets": {},
     "nuid": "4c7cd666-348a-4541-8c74-56748555de40",
     "showTitle": false,
     "title": ""
    }
   },
   "outputs": [],
   "source": [
    "%sql\n",
    "create table week15assigndb.donationsparquet using parquet location \"/mnt/week15assignmentdb/parquet/donations.parquet/*\""
   ]
  },
  {
   "cell_type": "code",
   "execution_count": 0,
   "metadata": {
    "application/vnd.databricks.v1+cell": {
     "cellMetadata": {},
     "inputWidgets": {},
     "nuid": "34ea5e36-624f-42e8-bc38-6924f7575c36",
     "showTitle": false,
     "title": ""
    }
   },
   "outputs": [],
   "source": [
    "%sql\n",
    "select * from week15assigndb.donationsparquet"
   ]
  },
  {
   "cell_type": "code",
   "execution_count": 0,
   "metadata": {
    "application/vnd.databricks.v1+cell": {
     "cellMetadata": {},
     "inputWidgets": {},
     "nuid": "13df156b-9f0d-404d-a394-f286a6784478",
     "showTitle": false,
     "title": ""
    }
   },
   "outputs": [],
   "source": [
    "# b. Create Spark tables in Delta format\n",
    "# Creating Delta table for bike_trip.csv"
   ]
  },
  {
   "cell_type": "code",
   "execution_count": 0,
   "metadata": {
    "application/vnd.databricks.v1+cell": {
     "cellMetadata": {},
     "inputWidgets": {},
     "nuid": "31c05b98-1625-4d1b-93e5-01599fbaad6f",
     "showTitle": false,
     "title": ""
    }
   },
   "outputs": [],
   "source": [
    "bike_df.write.mode(\"overwrite\").partitionBy(\"day_of_week_start\").format(\"delta\").save(\"/mnt/week15assignmentdb/delta/bikes.delta\")"
   ]
  },
  {
   "cell_type": "code",
   "execution_count": 0,
   "metadata": {
    "application/vnd.databricks.v1+cell": {
     "cellMetadata": {},
     "inputWidgets": {},
     "nuid": "39bc807b-002a-40a5-9933-73fb45f170dc",
     "showTitle": false,
     "title": ""
    }
   },
   "outputs": [],
   "source": [
    "%sql\n",
    "create table week15assigndb.bikesdelta using delta location \"/mnt/week15assignmentdb/delta/bikes.delta/*\""
   ]
  },
  {
   "cell_type": "code",
   "execution_count": 0,
   "metadata": {
    "application/vnd.databricks.v1+cell": {
     "cellMetadata": {},
     "inputWidgets": {},
     "nuid": "8e190219-12a2-4681-91e4-c77a4972fd01",
     "showTitle": false,
     "title": ""
    }
   },
   "outputs": [],
   "source": [
    "%sql\n",
    "select * from week15assigndb.bikesdelta"
   ]
  },
  {
   "cell_type": "code",
   "execution_count": 0,
   "metadata": {
    "application/vnd.databricks.v1+cell": {
     "cellMetadata": {},
     "inputWidgets": {},
     "nuid": "92fe4a19-bdfb-4d79-824b-bd3da0fed5cf",
     "showTitle": false,
     "title": ""
    }
   },
   "outputs": [],
   "source": [
    "# Creating Delta table for donations.csv"
   ]
  },
  {
   "cell_type": "code",
   "execution_count": 0,
   "metadata": {
    "application/vnd.databricks.v1+cell": {
     "cellMetadata": {},
     "inputWidgets": {},
     "nuid": "633cc616-6715-4726-bf8e-cd16c2f5a364",
     "showTitle": false,
     "title": ""
    }
   },
   "outputs": [],
   "source": [
    "donation_df.write.mode(\"overwrite\").format(\"delta\").save(\"/mnt/week15assignmentdb/delta/donations.delta\")"
   ]
  },
  {
   "cell_type": "code",
   "execution_count": 0,
   "metadata": {
    "application/vnd.databricks.v1+cell": {
     "cellMetadata": {},
     "inputWidgets": {},
     "nuid": "8829f3d5-5a89-43bf-8754-09062acf0128",
     "showTitle": false,
     "title": ""
    }
   },
   "outputs": [],
   "source": [
    "%sql\n",
    "create table week15assigndb.donationsdelta using delta location \"/mnt/week15assignmentdb/delta/donations.delta/*\""
   ]
  },
  {
   "cell_type": "code",
   "execution_count": 0,
   "metadata": {
    "application/vnd.databricks.v1+cell": {
     "cellMetadata": {},
     "inputWidgets": {},
     "nuid": "b5aaa752-107e-4011-a2a8-a55afffcd3e8",
     "showTitle": false,
     "title": ""
    }
   },
   "outputs": [],
   "source": [
    "%sql\n",
    "select * from week15assigndb.donationsdelta"
   ]
  },
  {
   "cell_type": "code",
   "execution_count": 0,
   "metadata": {
    "application/vnd.databricks.v1+cell": {
     "cellMetadata": {},
     "inputWidgets": {},
     "nuid": "1f6365b1-abb1-44cb-90d5-87bc2e952cde",
     "showTitle": false,
     "title": ""
    }
   },
   "outputs": [],
   "source": [
    "# How is the Parquet format structuring of files different from that of Delta\n",
    "# format? Give a detailed explanation with appropriate examples and\n",
    "# diagrams.\n",
    "# There is a difference of _delta_log folder between parquet and delta format so\n",
    "# Delta = parquet + _delta_log\n",
    "# DeltaLog contains information about every transaction that modifies our data. It guarantees to Spark\n",
    "# a single source of truth, which means that every time a query is executed against a Delta table, the\n",
    "# engine checks the log to see which data files should be read."
   ]
  },
  {
   "cell_type": "code",
   "execution_count": 0,
   "metadata": {
    "application/vnd.databricks.v1+cell": {
     "cellMetadata": {},
     "inputWidgets": {},
     "nuid": "a1ded6d6-5ee1-4aa8-9275-b39be6896350",
     "showTitle": false,
     "title": ""
    }
   },
   "outputs": [],
   "source": [
    "%sql\n",
    "describe history week15assigndb.bikesdelta\n",
    "-- DESCRIBE HISTORY is only supported for Delta tables – on parquet table we cannot run the describe history command because of the delta_log file"
   ]
  },
  {
   "cell_type": "code",
   "execution_count": 0,
   "metadata": {
    "application/vnd.databricks.v1+cell": {
     "cellMetadata": {},
     "inputWidgets": {},
     "nuid": "d06e68a9-ff92-426a-907e-dfe1a36c224d",
     "showTitle": false,
     "title": ""
    }
   },
   "outputs": [],
   "source": [
    "# 5. Create a delta table in a single step while writing the data to the dataframe using saveAsTable option"
   ]
  },
  {
   "cell_type": "code",
   "execution_count": 0,
   "metadata": {
    "application/vnd.databricks.v1+cell": {
     "cellMetadata": {},
     "inputWidgets": {},
     "nuid": "e5f6ee8e-e51a-4941-815c-6faca9ad9317",
     "showTitle": false,
     "title": ""
    }
   },
   "outputs": [],
   "source": [
    "bike_df.write.mode(\"overwrite\").partitionBy(\"day_of_week_start\").format(\"delta\").option(\"path\",\"/mnt/week15assigndb/deltalatest/bikes.delta\").saveAsTable(\"week15assigndb.bikesdeltatable\")"
   ]
  },
  {
   "cell_type": "code",
   "execution_count": 0,
   "metadata": {
    "application/vnd.databricks.v1+cell": {
     "cellMetadata": {},
     "inputWidgets": {},
     "nuid": "db5ffbee-69fd-4eaf-82e8-6b7e5533d45d",
     "showTitle": false,
     "title": ""
    }
   },
   "outputs": [],
   "source": [
    "donation_df.write.mode(\"overwrite\").format(\"delta\").option(\"path\",\"/mnt/week15assigndb/deltalatest/donations.delta\").saveAsTable(\"week15assigndb.donationsdeltatable\")"
   ]
  },
  {
   "cell_type": "code",
   "execution_count": 0,
   "metadata": {
    "application/vnd.databricks.v1+cell": {
     "cellMetadata": {},
     "inputWidgets": {},
     "nuid": "40c79f22-36e0-49b4-bd2b-0507e04455de",
     "showTitle": false,
     "title": ""
    }
   },
   "outputs": [],
   "source": [
    "%sql\n",
    "select * from week15assigndb.donationsdeltatable"
   ]
  },
  {
   "cell_type": "code",
   "execution_count": 0,
   "metadata": {
    "application/vnd.databricks.v1+cell": {
     "cellMetadata": {},
     "inputWidgets": {},
     "nuid": "cf9cdd6e-bb49-42a0-ac4a-ae0337c9d76f",
     "showTitle": false,
     "title": ""
    }
   },
   "outputs": [],
   "source": [
    "# Insert the data into the Delta tables using the following 3 approaches"
   ]
  },
  {
   "cell_type": "code",
   "execution_count": 0,
   "metadata": {
    "application/vnd.databricks.v1+cell": {
     "cellMetadata": {},
     "inputWidgets": {},
     "nuid": "98dba6e0-3071-4e69-b084-1d9695d6e016",
     "showTitle": false,
     "title": ""
    }
   },
   "outputs": [],
   "source": [
    "# Insert"
   ]
  },
  {
   "cell_type": "code",
   "execution_count": 0,
   "metadata": {
    "application/vnd.databricks.v1+cell": {
     "cellMetadata": {},
     "inputWidgets": {},
     "nuid": "8d96c512-cf5d-45eb-b2a6-328fd9470948",
     "showTitle": false,
     "title": ""
    }
   },
   "outputs": [],
   "source": [
    "%sql\n",
    "insert into week15assigndb.bikesdeltatable values\n",
    "('111111111','electric_bike','2021-10-01 15:48:22','2021-10-01 15:48:22','Clark St & Leland Ave','13136','Wilton Ave & Diversey Pkwy','TA1306000014','41.9541235','-87.65478743','41.90096','-87.644336','casual','28.716666666666665','Fri','Fri')"
   ]
  },
  {
   "cell_type": "code",
   "execution_count": 0,
   "metadata": {
    "application/vnd.databricks.v1+cell": {
     "cellMetadata": {},
     "inputWidgets": {},
     "nuid": "888f8213-bbe9-4237-86be-71b0218884b2",
     "showTitle": false,
     "title": ""
    }
   },
   "outputs": [],
   "source": [
    "#  Append"
   ]
  },
  {
   "cell_type": "code",
   "execution_count": 0,
   "metadata": {
    "application/vnd.databricks.v1+cell": {
     "cellMetadata": {},
     "inputWidgets": {},
     "nuid": "2aee1923-6a2d-4d36-a336-23dfd693a693",
     "showTitle": false,
     "title": ""
    }
   },
   "outputs": [],
   "source": [
    "bike_schema_new ='id long, rideable_type string, started_at string,ended_at string ,start_station_name string ,start_station_id string,end_station_name string ,end_station_id string ,start_lat string,start_lng string ,end_lat string ,end_lng string ,member_casual string,ride_length string ,day_of_week_start string ,day_of_week_end string'\n",
    "\n",
    "bikenew_df = spark.read.format(\"csv\").option(\"header\",\"true\").schema(bike_schema_new).load(\"dbfs:/mnt/week15assignmentdb/append_bikes.csv\")"
   ]
  },
  {
   "cell_type": "code",
   "execution_count": 0,
   "metadata": {
    "application/vnd.databricks.v1+cell": {
     "cellMetadata": {},
     "inputWidgets": {},
     "nuid": "49508678-d972-4062-aa73-2ea10bfbe0d5",
     "showTitle": false,
     "title": ""
    }
   },
   "outputs": [],
   "source": [
    "bikenew_df.write.mode(\"append\").partitionBy(\"day_of_week_start\").format(\"delta\").option(\"path\",\"/mnt/week15assigndb/deltalatest/bikes.delta\").save()"
   ]
  },
  {
   "cell_type": "code",
   "execution_count": 0,
   "metadata": {
    "application/vnd.databricks.v1+cell": {
     "cellMetadata": {},
     "inputWidgets": {},
     "nuid": "4a0cbbb8-4634-4ee8-b878-5369af1ec4f8",
     "showTitle": false,
     "title": ""
    }
   },
   "outputs": [],
   "source": [
    "# Copy"
   ]
  },
  {
   "cell_type": "code",
   "execution_count": 0,
   "metadata": {
    "application/vnd.databricks.v1+cell": {
     "cellMetadata": {},
     "inputWidgets": {},
     "nuid": "0a369f7f-8d30-4d23-9b71-81afa15d8243",
     "showTitle": false,
     "title": ""
    }
   },
   "outputs": [],
   "source": [
    "%sql\n",
    "copy into week15assigndb.bikesdeltatable from\n",
    "'dbfs:/mnt/week15assignmentdb/copy_bikes.csv' fileformat=CSV format_options('header'='true')\n",
    "-- If both the schemas are the same, the above command should work"
   ]
  },
  {
   "cell_type": "code",
   "execution_count": 0,
   "metadata": {
    "application/vnd.databricks.v1+cell": {
     "cellMetadata": {},
     "inputWidgets": {},
     "nuid": "bb7f370a-2a38-427f-a956-9b3aa9af41e2",
     "showTitle": false,
     "title": ""
    }
   },
   "outputs": [],
   "source": [
    "# Schema enforcement, also known as schema validation, is a safeguard in Delta Lake that\n",
    "# ensures data quality by rejecting writes to a table that do not match the table's schema. Like\n",
    "# the front desk manager at a busy restaurant that only accepts reservations, it checks to see\n",
    "# whether each column in data inserted into the table is on its list of expected columns (in other\n",
    "# words, whether each one has a \"reservation\"), and rejects any writes with columns that aren't\n",
    "# on the list.\n",
    "# If we add option(\"mergeSchema\",\"true\") then only the delta table will allow for append\n",
    "# operation in case of the extra column."
   ]
  },
  {
   "cell_type": "code",
   "execution_count": 0,
   "metadata": {
    "application/vnd.databricks.v1+cell": {
     "cellMetadata": {},
     "inputWidgets": {},
     "nuid": "cf701e56-c104-4450-a5c6-270593241ce2",
     "showTitle": false,
     "title": ""
    }
   },
   "outputs": [],
   "source": [
    "bike_schema_mismatched ='id long, rideable_type string, started_at string,ended_at string ,start_station_name string ,start_station_id string,end_station_name string ,end_station_id string ,start_lat string,start_lng string ,end_lat string ,end_lng string ,member_casual string,ride_length string ,day_of_week_start string ,day_of_week_end string,test string'\n",
    "\n",
    "bikemismatched_df = spark.read.format(\"csv\").option(\"header\",\"true\").schema(bike_schema_mismatched).load(\"dbfs:/mnt/week15assignmentdb/schema_mismatch_bikes.csv\")"
   ]
  },
  {
   "cell_type": "code",
   "execution_count": 0,
   "metadata": {
    "application/vnd.databricks.v1+cell": {
     "cellMetadata": {},
     "inputWidgets": {},
     "nuid": "d60d485e-b6f5-4b75-86c5-7ec834981681",
     "showTitle": false,
     "title": ""
    }
   },
   "outputs": [],
   "source": [
    "bikemismatched_df.write.mode(\"append\").partitionBy(\"day_of_week_start\").format(\"delta\").option(\"path\",\"/mnt/week15assigndb/deltalatest/bikes.delta\").option(\"mergeSchema\",\"true\").save()"
   ]
  },
  {
   "cell_type": "code",
   "execution_count": 0,
   "metadata": {
    "application/vnd.databricks.v1+cell": {
     "cellMetadata": {},
     "inputWidgets": {},
     "nuid": "914459bd-6a8f-45a8-a138-22684a99ccbb",
     "showTitle": false,
     "title": ""
    }
   },
   "outputs": [],
   "source": [
    "# Depict the internal working of update and delete\n",
    "# operation by updating and deleting records of the data\n",
    "# # present in the storage account."
   ]
  },
  {
   "cell_type": "code",
   "execution_count": 0,
   "metadata": {
    "application/vnd.databricks.v1+cell": {
     "cellMetadata": {},
     "inputWidgets": {},
     "nuid": "db94221c-16eb-421c-b7ba-034de527c630",
     "showTitle": false,
     "title": ""
    }
   },
   "outputs": [],
   "source": [
    "# Once Delta Lake has executed the UPDATE successfully, it adds a commit in the transaction\n",
    "# log indicating that the new data file will be used in place of the old one from now on. The old\n",
    "# data file is not deleted, though. Instead, it's simply \"tombstoned\" — recorded as a data file\n",
    "# that applied to an older version of the table, but not the current version. Delta Lake is able to\n",
    "# # use it to provide data versioning and time travel."
   ]
  },
  {
   "cell_type": "code",
   "execution_count": 0,
   "metadata": {
    "application/vnd.databricks.v1+cell": {
     "cellMetadata": {},
     "inputWidgets": {},
     "nuid": "11c90966-0e3e-494a-b92b-f3544a5ffb08",
     "showTitle": false,
     "title": ""
    }
   },
   "outputs": [],
   "source": [
    "%sql\n",
    "update week15assigndb.bikesdeltatable set day_of_week_start='Fri' where id = '9999999999' and test='test'"
   ]
  },
  {
   "cell_type": "code",
   "execution_count": 0,
   "metadata": {
    "application/vnd.databricks.v1+cell": {
     "cellMetadata": {},
     "inputWidgets": {},
     "nuid": "3f379f8d-09f8-408b-b4e9-5b6748dd9261",
     "showTitle": false,
     "title": ""
    }
   },
   "outputs": [],
   "source": [
    "# DELETE works just like UPDATE under the hood. Delta Lake makes two scans of the data:\n",
    "# the first scan is to identify any data files that contain rows matching the predicate condition.\n",
    "# The second scan reads the matching data files into memory, at which point Delta Lake deletes\n",
    "# the rows in question before writing out the newly clean data to disk.\n",
    "# After Delta Lake completes a DELETE operation successfully, the old data files are not\n",
    "# deleted — they're still retained on disk, but recorded as \"tombstoned\" (no longer part of the\n",
    "# active table) in the Delta Lake transaction log. Remember, those old files aren't deleted\n",
    "# immediately because you might still need them to time-travel back to an earlier version of the\n",
    "# table. If you want to delete files older than a certain time period, you can use\n",
    "# the VACUUM command."
   ]
  },
  {
   "cell_type": "code",
   "execution_count": 0,
   "metadata": {
    "application/vnd.databricks.v1+cell": {
     "cellMetadata": {},
     "inputWidgets": {},
     "nuid": "5209d2bd-78f1-40ec-82d9-bf61a3d7d95d",
     "showTitle": false,
     "title": ""
    }
   },
   "outputs": [],
   "source": [
    "# Apply NOT NULL and CHECK constraints on the data\n",
    "# and demonstrate the behaviour when data violating the\n",
    "# constraints are inserted into the delta table."
   ]
  },
  {
   "cell_type": "code",
   "execution_count": 0,
   "metadata": {
    "application/vnd.databricks.v1+cell": {
     "cellMetadata": {},
     "inputWidgets": {},
     "nuid": "35cf62ab-3db0-4e67-8b58-1d3f32bce7cb",
     "showTitle": false,
     "title": ""
    }
   },
   "outputs": [],
   "source": [
    "%sql\n",
    "alter table week15assigndb.bikesdeltatable alter column rideable_type SET\n",
    "not null"
   ]
  },
  {
   "cell_type": "code",
   "execution_count": 0,
   "metadata": {
    "application/vnd.databricks.v1+cell": {
     "cellMetadata": {},
     "inputWidgets": {},
     "nuid": "d071ba10-a2f0-4353-8806-29e6f1cc5031",
     "showTitle": false,
     "title": ""
    }
   },
   "outputs": [],
   "source": [
    "%sql\n",
    "alter table week15assigndb.bikesdeltatable add constraint status_ck\n",
    "check(rideable_type in (\"electric_bike\",\"docked_bike\",\"classic_bike\"))"
   ]
  },
  {
   "cell_type": "code",
   "execution_count": 0,
   "metadata": {
    "application/vnd.databricks.v1+cell": {
     "cellMetadata": {},
     "inputWidgets": {},
     "nuid": "34129ab0-569f-4e52-8b3b-2ec245385e60",
     "showTitle": false,
     "title": ""
    }
   },
   "outputs": [],
   "source": [
    "# here have been several changes being made to the\n",
    "# table. Say you are required to present the original data\n",
    "# without any changes, restore the table to its first\n",
    "# version."
   ]
  },
  {
   "cell_type": "code",
   "execution_count": 0,
   "metadata": {
    "application/vnd.databricks.v1+cell": {
     "cellMetadata": {},
     "inputWidgets": {},
     "nuid": "8ffe23da-1a07-4a75-a21a-2acf84b0272a",
     "showTitle": false,
     "title": ""
    }
   },
   "outputs": [],
   "source": [
    "%sql\n",
    "restore table week15assigndb.bikesdeltatable to version as of 0"
   ]
  },
  {
   "cell_type": "code",
   "execution_count": 0,
   "metadata": {
    "application/vnd.databricks.v1+cell": {
     "cellMetadata": {},
     "inputWidgets": {},
     "nuid": "2260e903-37c1-472e-8283-ce8e9b8cbc32",
     "showTitle": false,
     "title": ""
    }
   },
   "outputs": [],
   "source": []
  },
  {
   "cell_type": "code",
   "execution_count": 0,
   "metadata": {
    "application/vnd.databricks.v1+cell": {
     "cellMetadata": {},
     "inputWidgets": {},
     "nuid": "e96ddafe-ae6a-4a6b-8e90-e8832fdcb4c3",
     "showTitle": false,
     "title": ""
    }
   },
   "outputs": [],
   "source": []
  }
 ],
 "metadata": {
  "application/vnd.databricks.v1+notebook": {
   "dashboards": [],
   "language": "python",
   "notebookMetadata": {
    "pythonIndentUnit": 4
   },
   "notebookName": "Week_15_Assignment",
   "widgets": {}
  }
 },
 "nbformat": 4,
 "nbformat_minor": 0
}
